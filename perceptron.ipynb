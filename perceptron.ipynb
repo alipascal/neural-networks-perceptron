{
 "cells": [
  {
   "cell_type": "markdown",
   "id": "b0623ab5-8c2a-4423-9ac6-1db539f7a042",
   "metadata": {},
   "source": [
    "https://python.plainenglish.io/building-a-perceptron-from-scratch-a-step-by-step-guide-with-python-6b8722807b2e"
   ]
  },
  {
   "cell_type": "code",
   "execution_count": 1,
   "id": "fb1f5886-1e13-42bb-b5dd-5c5e984134d7",
   "metadata": {},
   "outputs": [],
   "source": [
    "import numpy as np\n",
    "import matplotlib.pyplot as plt\n",
    "import random\n",
    "import math"
   ]
  },
  {
   "cell_type": "code",
   "execution_count": 2,
   "id": "16fa1c57-35f5-41ad-855f-b795e55e5aff",
   "metadata": {},
   "outputs": [],
   "source": [
    "X = [1, 0]"
   ]
  },
  {
   "cell_type": "code",
   "execution_count": 5,
   "id": "66e03466-8f8a-49c2-b6c7-db3a4544094e",
   "metadata": {},
   "outputs": [
    {
     "data": {
      "text/plain": [
       "[-0.934444240342807, 0.5640856263067835]"
      ]
     },
     "execution_count": 5,
     "metadata": {},
     "output_type": "execute_result"
    }
   ],
   "source": [
    "w = []\n",
    "nInputs = 2\n",
    "for i in range(nInputs):\n",
    "    w.append(random.uniform(-1, 1))\n",
    "w"
   ]
  },
  {
   "cell_type": "code",
   "execution_count": 6,
   "id": "2ec4212e-ab47-4787-9b51-83499c46d9db",
   "metadata": {},
   "outputs": [
    {
     "data": {
      "text/plain": [
       "0.7792137492282403"
      ]
     },
     "execution_count": 6,
     "metadata": {},
     "output_type": "execute_result"
    }
   ],
   "source": [
    "b = random.uniform(-1,1)\n",
    "b"
   ]
  },
  {
   "cell_type": "code",
   "execution_count": 7,
   "id": "2c467305-cbcf-4ca5-9fe0-656e7cfc68dc",
   "metadata": {},
   "outputs": [],
   "source": [
    "def sigmoid(x):\n",
    "    return 1/(1+math.exp(-x))\n",
    "\n",
    "def activation(z):\n",
    "    return 1 if z >0.5 else 0"
   ]
  },
  {
   "cell_type": "code",
   "execution_count": 8,
   "id": "a16e1651-32a3-476b-ac0e-1556db6f847d",
   "metadata": {},
   "outputs": [
    {
     "data": {
      "text/plain": [
       "0.46127011724134526"
      ]
     },
     "execution_count": 8,
     "metadata": {},
     "output_type": "execute_result"
    }
   ],
   "source": [
    "#weighted sum = w1*x1 + w2*x2 ... + b\n",
    "z = sigmoid(np.dot(X, w) + b)\n",
    "z"
   ]
  },
  {
   "cell_type": "code",
   "execution_count": 9,
   "id": "92a9b140-1198-4bc3-8b5a-42fc10aac5a1",
   "metadata": {},
   "outputs": [
    {
     "ename": "NameError",
     "evalue": "name 'y' is not defined",
     "output_type": "error",
     "traceback": [
      "\u001b[31m---------------------------------------------------------------------------\u001b[39m",
      "\u001b[31mNameError\u001b[39m                                 Traceback (most recent call last)",
      "\u001b[36mCell\u001b[39m\u001b[36m \u001b[39m\u001b[32mIn[9]\u001b[39m\u001b[32m, line 2\u001b[39m\n\u001b[32m      1\u001b[39m y_pred = activation(z)\n\u001b[32m----> \u001b[39m\u001b[32m2\u001b[39m error = \u001b[43my\u001b[49m - y_pred\n",
      "\u001b[31mNameError\u001b[39m: name 'y' is not defined"
     ]
    }
   ],
   "source": [
    "y_pred = activation(z)\n",
    "error = y - y_pred"
   ]
  },
  {
   "cell_type": "code",
   "execution_count": 10,
   "id": "67ea39f7-f7f0-4860-ad31-3e1004713846",
   "metadata": {},
   "outputs": [
    {
     "ename": "NameError",
     "evalue": "name 'error' is not defined",
     "output_type": "error",
     "traceback": [
      "\u001b[31m---------------------------------------------------------------------------\u001b[39m",
      "\u001b[31mNameError\u001b[39m                                 Traceback (most recent call last)",
      "\u001b[36mCell\u001b[39m\u001b[36m \u001b[39m\u001b[32mIn[10]\u001b[39m\u001b[32m, line 4\u001b[39m\n\u001b[32m      2\u001b[39m w_new = []\n\u001b[32m      3\u001b[39m \u001b[38;5;28;01mfor\u001b[39;00m wi, xi \u001b[38;5;129;01min\u001b[39;00m \u001b[38;5;28mzip\u001b[39m(w, X):\n\u001b[32m----> \u001b[39m\u001b[32m4\u001b[39m     w_new.append(wi + lr*\u001b[43merror\u001b[49m*xi)\n\u001b[32m      6\u001b[39m b_new = b + lr*error\n",
      "\u001b[31mNameError\u001b[39m: name 'error' is not defined"
     ]
    }
   ],
   "source": [
    "lr = 0.1\n",
    "w_new = []\n",
    "for wi, xi in zip(w, X):\n",
    "    w_new.append(wi + lr*error*xi)\n",
    "    \n",
    "b_new = b + lr*error"
   ]
  },
  {
   "cell_type": "code",
   "execution_count": null,
   "id": "6640e2b5-8361-49f6-868a-95419ef80b40",
   "metadata": {},
   "outputs": [],
   "source": [
    "class Perceptron():\n",
    "    \n",
    "    def __init__(self,input_size = 2, lr = 0.01, epochs = 20):\n",
    "        #setting default parameters\n",
    "        self.lr = lr\n",
    "        self.epochs = epochs\n",
    "        self.input_size = input_size\n",
    "        self.w = np.random.uniform(-1, 1, size=(input_size))\n",
    "        self.bias = random.uniform(-1,1)\n",
    "        self.misses = []\n",
    "        \n",
    "    def predict(self, X):\n",
    "        w = self.w\n",
    "        b = self.bias\n",
    "        z = sigmoid(np.dot(X, self.w) + b)\n",
    "        \n",
    "        if z > 0.5:\n",
    "            return 1\n",
    "        else:\n",
    "            return 0\n",
    "        \n",
    "    def fit(self, X, y):\n",
    "        \n",
    "        for epoch in range(self.epochs):\n",
    "            miss = 0\n",
    "            for yi, xi in zip(y, X):\n",
    "                y_pred = self.predict(xi)\n",
    "                #update the weights to minimize error\n",
    "                error = yi - y_pred\n",
    "                self.w += self.lr*error*xi\n",
    "                self.bias += self.lr*error\n",
    "                miss += int(error != 0.0)\n",
    "            #get the number of missclassifications of each epoch\n",
    "            self.misses.append(miss)"
   ]
  },
  {
   "cell_type": "code",
   "execution_count": 12,
   "id": "777c19b3-bd5c-4892-a97d-f209edc78372",
   "metadata": {},
   "outputs": [
    {
     "data": {
      "image/png": "[encoded data removed]",
      "text/plain": [
       "<Figure size 1600x800 with 1 Axes>"
      ]
     },
     "metadata": {},
     "output_type": "display_data"
    }
   ],
   "source": [
    "from sklearn import datasets\n",
    "iris = datasets.load_iris()\n",
    "X = iris.data\n",
    "y = iris.target\n",
    "\n",
    "X = X[:100, [0,2]]\n",
    "y = y[y<2]\n",
    "\n",
    "# plot the data\n",
    "plt.figure(figsize=(16,8))\n",
    "plt.scatter(X[:50,0], X[:50,1], marker='o', label='setosa')\n",
    "plt.scatter(X[50:,0], X[50:,1], marker='x', label='virginica')\n",
    "plt.ylabel('sepal length')\n",
    "plt.xlabel('petal length')\n",
    "plt.show()"
   ]
  },
  {
   "cell_type": "code",
   "execution_count": 13,
   "id": "e3f41575-200e-43ac-b261-f339d185224d",
   "metadata": {},
   "outputs": [
    {
     "name": "stdout",
     "output_type": "stream",
     "text": [
      "[0.00043428 0.057693  ] -0.14088189278530464\n"
     ]
    }
   ],
   "source": [
    "perceptron = Perceptron()\n",
    "perceptron.fit(X,y)\n",
    "print(perceptron.w, perceptron.bias)"
   ]
  }
 ],
 "metadata": {
  "kernelspec": {
   "display_name": "Python 3 (ipykernel)",
   "language": "python",
   "name": "python3"
  },
  "language_info": {
   "codemirror_mode": {
    "name": "ipython",
    "version": 3
   },
   "file_extension": ".py",
   "mimetype": "text/x-python",
   "name": "python",
   "nbconvert_exporter": "python",
   "pygments_lexer": "ipython3",
   "version": "3.12.9"
  }
 },
 "nbformat": 4,
 "nbformat_minor": 5
}
